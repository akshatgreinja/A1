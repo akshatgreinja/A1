{
  "nbformat": 4,
  "nbformat_minor": 0,
  "metadata": {
    "colab": {
      "provenance": [],
      "collapsed_sections": []
    },
    "kernelspec": {
      "name": "python3",
      "display_name": "Python 3"
    },
    "language_info": {
      "name": "python"
    }
  },
  "cells": [
    {
      "cell_type": "code",
      "execution_count": null,
      "metadata": {
        "colab": {
          "base_uri": "https://localhost:8080/"
        },
        "id": "eGQm1VgBd0gX",
        "outputId": "f1306dd0-ab86-41ae-cb7a-a305d1a0419f"
      },
      "outputs": [
        {
          "output_type": "stream",
          "name": "stdout",
          "text": [
            "found jigglipuff\n"
          ]
        }
      ],
      "source": [
        " pokelist=[12,13,14,\"jigglipuff\",\"1\",\"2\"]\n",
        " pokemon=\"jigglipuff\"\n",
        " for pokemon in pokelist:\n",
        "   #print(pokemon)\n",
        "   if(pokemon==\"jigglipuff\"):\n",
        "     print(\"found jigglipuff\")\n",
        "   else:\n",
        "      continue"
      ]
    },
    {
      "cell_type": "code",
      "source": [
        "v1=\"pickachu\"\n",
        "v2=\"raichu\"\n",
        "#v0=pichu#not defined error\n",
        "#0v=\"Red\"# error syntax error\n",
        "for i in v1:\n",
        "  print(i,sep=\"\",end=\" \")\n",
        "print(\"\\n\"+v1[0])"
      ],
      "metadata": {
        "colab": {
          "base_uri": "https://localhost:8080/"
        },
        "id": "-6C_u2Bcj5fZ",
        "outputId": "106a9838-aaa8-4f1f-e2bd-f17d9892ed90"
      },
      "execution_count": null,
      "outputs": [
        {
          "output_type": "stream",
          "name": "stdout",
          "text": [
            "p i c k a c h u \n",
            "p\n"
          ]
        }
      ]
    },
    {
      "cell_type": "code",
      "source": [
        "print(v1[0])\n",
        "print(v1[2])\n",
        "print(v1[1])\n",
        "print(v1[-1])"
      ],
      "metadata": {
        "colab": {
          "base_uri": "https://localhost:8080/"
        },
        "id": "6aJU0K4Xk5Zr",
        "outputId": "c0b1ada0-36c3-4ac7-d70b-1e53f99038d0"
      },
      "execution_count": null,
      "outputs": [
        {
          "output_type": "stream",
          "name": "stdout",
          "text": [
            "p\n",
            "c\n",
            "i\n",
            "u\n"
          ]
        }
      ]
    },
    {
      "cell_type": "code",
      "source": [
        "print(v1[0:3])"
      ],
      "metadata": {
        "colab": {
          "base_uri": "https://localhost:8080/"
        },
        "id": "Um3BxWqcoes1",
        "outputId": "eaab4bb5-7b6c-45a1-dee9-8f347c3b87c5"
      },
      "execution_count": null,
      "outputs": [
        {
          "output_type": "stream",
          "name": "stdout",
          "text": [
            "pic\n"
          ]
        }
      ]
    },
    {
      "cell_type": "code",
      "source": [
        "print(v1[-3:])\n",
        "print(v0[-1:-4:-1])\n",
        "print(v1[-4:-1])\n",
        "print(v1[::-1])"
      ],
      "metadata": {
        "colab": {
          "base_uri": "https://localhost:8080/"
        },
        "id": "fGbCEMfuo8Jf",
        "outputId": "a0864123-b3f9-421c-9cb1-2d2bf483fb0e"
      },
      "execution_count": null,
      "outputs": [
        {
          "output_type": "stream",
          "name": "stdout",
          "text": [
            "chu\n",
            "uhc\n",
            "ach\n",
            "uhcakcip\n"
          ]
        }
      ]
    },
    {
      "cell_type": "markdown",
      "source": [
        "reversing complete list and reversing each word"
      ],
      "metadata": {
        "id": "QV-MSJbxAQnC"
      }
    },
    {
      "cell_type": "code",
      "source": [
        "L=[\"bublasaur_11\",\"Coocoo_51\",\"Squirtle_21\",\"groudon_32\",\"Seviper_67\",\"Paras_80\",\"greninja_07\",\"Gengar_67\",\"Mew_11\",\"lucario_34\",\"onyx_99\",\"raichu_22\",\"hooh_21\",\"palkia_23\",\"charizard_98\"]\n",
        "for L in L[::-1]:\n",
        "  print(L[-4::-1])"
      ],
      "metadata": {
        "id": "Ofy-rUKTpIKz",
        "colab": {
          "base_uri": "https://localhost:8080/"
        },
        "outputId": "d6303c03-0d3e-40c2-90cd-8a316643da6d"
      },
      "execution_count": 24,
      "outputs": [
        {
          "output_type": "stream",
          "name": "stdout",
          "text": [
            "drazirahc\n",
            "aiklap\n",
            "hooh\n",
            "uhciar\n",
            "xyno\n",
            "oiracul\n",
            "weM\n",
            "ragneG\n",
            "ajninerg\n",
            "saraP\n",
            "repiveS\n",
            "noduorg\n",
            "eltriuqS\n",
            "oocooC\n",
            "ruasalbub\n"
          ]
        }
      ]
    },
    {
      "cell_type": "code",
      "source": [
        "L=[\"bublasaur_11\",\"Coocoo_51\",\"Squirtle_21\",\"groudon_32\",\"Seviper_617\",\"Paras_80\",\"greninja_07\",\"Gengar_67\",\"Mew_11\",\"lucario_34\",\"onyx_99\",\"raichu_22\",\"hooh_21\",\"palkia_23\",\"charizard_98\"]\n",
        "for L in L:\n",
        "  print(L[:L.index(\"_\")])"
      ],
      "metadata": {
        "colab": {
          "base_uri": "https://localhost:8080/"
        },
        "id": "3IdD2HTJ8BFq",
        "outputId": "a112fe4b-181e-4711-c90c-568971be4dad"
      },
      "execution_count": 29,
      "outputs": [
        {
          "output_type": "stream",
          "name": "stdout",
          "text": [
            "bublasaur\n",
            "Coocoo\n",
            "Squirtle\n",
            "groudon\n",
            "Seviper\n",
            "Paras\n",
            "greninja\n",
            "Gengar\n",
            "Mew\n",
            "lucario\n",
            "onyx\n",
            "raichu\n",
            "hooh\n",
            "palkia\n",
            "charizard\n"
          ]
        }
      ]
    },
    {
      "cell_type": "code",
      "source": [
        "L=[\"bublasaur_11\",\"Coocoo_51\",\"Squirtle_21\",\"groudon_32\",\"Seviper_617\",\"Paras_80\",\"greninja_07\",\"Gengar_67\",\"Mew_11\",\"lucario_34\",\"onyx_99\",\"raichu_22\",\"hooh_21\",\"palkia_23\",\"charizard_98\"]\n",
        "c=0\n",
        "while(c<len(L)):\n",
        "  print(L[c][:L[c].index(\"_\")])\n",
        "  c+=2\n"
      ],
      "metadata": {
        "colab": {
          "base_uri": "https://localhost:8080/"
        },
        "id": "PHV7zggECR1Z",
        "outputId": "69d3da4b-c4d4-483a-d6be-a4320ce08e86"
      },
      "execution_count": 37,
      "outputs": [
        {
          "output_type": "stream",
          "name": "stdout",
          "text": [
            "bublasaur\n",
            "Squirtle\n",
            "Seviper\n",
            "greninja\n",
            "Mew\n",
            "onyx\n",
            "hooh\n",
            "charizard\n"
          ]
        }
      ]
    },
    {
      "cell_type": "markdown",
      "source": [
        "append\n",
        "update\n",
        "remove\n",
        "del"
      ],
      "metadata": {
        "id": "lmEBBC-1GHFx"
      }
    },
    {
      "cell_type": "code",
      "source": [
        "L=[\"bublasaur_11\",\"Coocoo_51\",\"Squirtle_21\",\"groudon_32\",\"Seviper_617\",\"Paras_80\",\"greninja_07\",\"Gengar_67\",\"Mew_11\",\"lucario_34\",\"onyx_99\",\"raichu_22\",\"hooh_21\",\"palkia_23\",\"charizard_98\"]\n",
        "for L in L[::2]:\n",
        "  print(L[:L.index(\"_\")])"
      ],
      "metadata": {
        "colab": {
          "base_uri": "https://localhost:8080/"
        },
        "id": "iRbgUufrE9va",
        "outputId": "afec5c66-b490-4999-f91f-f54c7c454a6c"
      },
      "execution_count": 38,
      "outputs": [
        {
          "output_type": "stream",
          "name": "stdout",
          "text": [
            "bublasaur\n",
            "Squirtle\n",
            "Seviper\n",
            "greninja\n",
            "Mew\n",
            "onyx\n",
            "hooh\n",
            "charizard\n"
          ]
        }
      ]
    },
    {
      "cell_type": "code",
      "source": [
        "s=[\"1\",\"2\",\"3\",\"4\"]\n",
        "s.remove(\"2\")\n",
        "print(s)"
      ],
      "metadata": {
        "colab": {
          "base_uri": "https://localhost:8080/"
        },
        "id": "KjOEfaxBF-aW",
        "outputId": "c32a6234-dba2-4ac6-b86c-cdf0debb2765"
      },
      "execution_count": 45,
      "outputs": [
        {
          "output_type": "stream",
          "name": "stdout",
          "text": [
            "['1', '3', '4']\n"
          ]
        }
      ]
    },
    {
      "cell_type": "code",
      "source": [
        "L=[\"bublasaur_11\",\"Coocoo_51\",\"Squirtle_21\",\"groudon_32\",\"Seviper_617\",\"Paras_80\",\"greninja_07\",\"Gengar_67\",\"Mew_11\",\"lucario_34\",\"onyx_99\",\"raichu_22\",\"hooh_21\",\"palkia_23\",\"charizard_98\"]\n",
        "for L in L:\n",
        "  if(L.startswith(\"g\")or(L.startswith(\"G\"))):\n",
        "    print(L[:L.index(\"_\")])\n",
        "  else:\n",
        "    continue"
      ],
      "metadata": {
        "colab": {
          "base_uri": "https://localhost:8080/"
        },
        "id": "McBoV5UhGT_P",
        "outputId": "906a3290-d744-4ece-ac0c-deed0b53d5b9"
      },
      "execution_count": 49,
      "outputs": [
        {
          "output_type": "stream",
          "name": "stdout",
          "text": [
            "groudon\n",
            "greninja\n",
            "Gengar\n"
          ]
        }
      ]
    },
    {
      "cell_type": "code",
      "source": [
        "L2=[]\n",
        "L=[\"bublasaur_11\",\"Coocoo_51\",\"Squirtle_21\",\"groudon_32\",\"Seviper_617\",\"Paras_80\",\"greninja_07\",\"Gengar_67\",\"Mew_11\",\"lucario_34\",\"onyx_99\",\"raichu_22\",\"hooh_21\",\"palkia_23\",\"charizard_98\"]\n",
        "i=0\n",
        "for i in L[::2]:\n",
        "  L2.append(i)\n",
        "print(L2)"
      ],
      "metadata": {
        "colab": {
          "base_uri": "https://localhost:8080/"
        },
        "id": "FfkPvmJgG9RB",
        "outputId": "2a05ddfb-d02a-4dbe-f9be-53b4a5e74ed8"
      },
      "execution_count": 53,
      "outputs": [
        {
          "output_type": "stream",
          "name": "stdout",
          "text": [
            "['bublasaur_11', 'Squirtle_21', 'Seviper_617', 'greninja_07', 'Mew_11', 'onyx_99', 'hooh_21', 'charizard_98']\n"
          ]
        }
      ]
    },
    {
      "cell_type": "code",
      "source": [],
      "metadata": {
        "id": "7eIGBIZKOnwa"
      },
      "execution_count": null,
      "outputs": []
    }
  ]
}
